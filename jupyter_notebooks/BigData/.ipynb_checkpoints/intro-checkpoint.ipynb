{
 "cells": [
  {
   "cell_type": "code",
   "execution_count": 1,
   "id": "37b5f6bd-1e53-419e-ab2b-f729a700a22e",
   "metadata": {},
   "outputs": [],
   "source": [
    "import pyspark"
   ]
  },
  {
   "cell_type": "code",
   "execution_count": 2,
   "id": "156c82ba-307d-48fa-ae60-316475cd12d2",
   "metadata": {},
   "outputs": [
    {
     "name": "stdout",
     "output_type": "stream",
     "text": [
      "100\n"
     ]
    }
   ],
   "source": [
    "from pyspark.sql import SparkSession\n",
    "\n",
    "spark = SparkSession.builder \\\n",
    "    .master(\"local\") \\\n",
    "    .appName(\"AmbientTest\") \\\n",
    "    .getOrCreate()\n",
    "print(spark.range(100).count())  # Esto debería imprimir 100 si todo está bien"
   ]
  },
  {
   "cell_type": "code",
   "execution_count": 3,
   "id": "2c178313-5d1f-45f2-9550-ee8080e7e8af",
   "metadata": {},
   "outputs": [
    {
     "name": "stdout",
     "output_type": "stream",
     "text": [
      "PythonRDD[5] at RDD at PythonRDD.scala:53\n",
      "🔥 Números pares encontrados: 499,999\n"
     ]
    }
   ],
   "source": [
    "numeros = range(1, 1000000)  # 1 millón de elementos\n",
    "rdd = spark.sparkContext.parallelize(numeros, numSlices=4)  # 4 particiones\n",
    "print(rdd)\n",
    " \n",
    "# Transformación 1: Cuadrados\n",
    "cuadrados = rdd.map(lambda x: x ** 2)\n",
    " \n",
    "# Transformación 2: Filtrar pares\n",
    "pares = cuadrados.filter(lambda x: x % 2 == 0)\n",
    " \n",
    "# Acción: Contar elementos (dispara el procesamiento)\n",
    "num_pares = pares.count()\n",
    " \n",
    "print(f\"🔥 Números pares encontrados: {num_pares:,}\")"
   ]
  },
  {
   "cell_type": "code",
   "execution_count": null,
   "id": "396e26cd-9f22-4e48-99ef-a1e559f41032",
   "metadata": {},
   "outputs": [],
   "source": []
  }
 ],
 "metadata": {
  "kernelspec": {
   "display_name": "Python 3 (ipykernel)",
   "language": "python",
   "name": "python3"
  },
  "language_info": {
   "codemirror_mode": {
    "name": "ipython",
    "version": 3
   },
   "file_extension": ".py",
   "mimetype": "text/x-python",
   "name": "python",
   "nbconvert_exporter": "python",
   "pygments_lexer": "ipython3",
   "version": "3.11.6"
  }
 },
 "nbformat": 4,
 "nbformat_minor": 5
}
